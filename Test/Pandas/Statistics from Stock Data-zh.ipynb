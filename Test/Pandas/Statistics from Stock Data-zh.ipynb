{
 "cells": [
  {
   "cell_type": "markdown",
   "metadata": {},
   "source": [
    "# 股票数据统计信息\n",
    "\n",
    "在此 Lab 中，我们将在 Pandas DataFrame 中加载股票数据，并计算一些统计指标。我们将处理 Google、Apple 和 Amazon 的股票数据。所有数据都来自雅虎金融，格式为 CSV。在你的 workspace 中应该有一个包含 Google 股票数据的 GOOG.csv  文件，一个包含 Apple 股票数据的 AAPL.csv 文件和一个包含 Amazon 股票数据的 AMZN.csv 文件。所有文件都包含 7 列数据：\n",
    "\n",
    "**Date Open High Low Close Adj_Close Volume**\n",
    "\n",
    "首先，我们会将上述 CSV 文件读取到 DataFrame 中，看一下数据看起来如何。"
   ]
  },
  {
   "cell_type": "code",
   "execution_count": null,
   "metadata": {},
   "outputs": [],
   "source": [
    "# We import pandas into Python\n",
    "import pandas as pd\n",
    "\n",
    "# We read in a stock data data file into a data frame and see what it looks like\n",
    "df = pd.read_csv('./GOOG.csv')\n",
    "\n",
    "# We display the first 5 rows of the DataFrame\n",
    "df.head()"
   ]
  },
  {
   "cell_type": "markdown",
   "metadata": {},
   "source": [
    "<div>\n",
    "<style>\n",
    "    .dataframe thead tr:only-child th {\n",
    "        text-align: right;\n",
    "    }"
   ]
  },
  {
   "cell_type": "code",
   "execution_count": null,
   "metadata": {},
   "outputs": [],
   "source": [
    ".dataframe thead th {\n",
    "    text-align: left;\n",
    "}\n",
    "\n",
    ".dataframe tbody tr th {\n",
    "    vertical-align: top;\n",
    "}\n",
    "</style>\n",
    "<table border=\"1\" class=\"dataframe\">\n",
    "  <thead>\n",
    "<tr style=\"text-align: right;\">\n",
    "  <th></th>\n",
    "  <th>Date</th>\n",
    "  <th>Open</th>\n",
    "  <th>High</th>\n",
    "  <th>Low</th>\n",
    "  <th>Close</th>\n",
    "  <th>Adj Close</th>\n",
    "  <th>Volume</th>\n",
    "</tr>\n",
    "  </thead>\n",
    "  <tbody>\n",
    "<tr>\n",
    "  <th>0</th>\n",
    "  <td>2004-08-19</td>\n",
    "  <td>49.676899</td>\n",
    "  <td>51.693783</td>\n",
    "  <td>47.669952</td>\n",
    "  <td>49.845802</td>\n",
    "  <td>49.845802</td>\n",
    "  <td>44994500</td>\n",
    "</tr>\n",
    "<tr>\n",
    "  <th>1</th>\n",
    "  <td>2004-08-20</td>\n",
    "  <td>50.178635</td>\n",
    "  <td>54.187561</td>\n",
    "  <td>49.925285</td>\n",
    "  <td>53.805050</td>\n",
    "  <td>53.805050</td>\n",
    "  <td>23005800</td>\n",
    "</tr>\n",
    "<tr>\n",
    "  <th>2</th>\n",
    "  <td>2004-08-23</td>\n",
    "  <td>55.017166</td>\n",
    "  <td>56.373344</td>\n",
    "  <td>54.172661</td>\n",
    "  <td>54.346527</td>\n",
    "  <td>54.346527</td>\n",
    "  <td>18393200</td>\n",
    "</tr>\n",
    "<tr>\n",
    "  <th>3</th>\n",
    "  <td>2004-08-24</td>\n",
    "  <td>55.260582</td>\n",
    "  <td>55.439419</td>\n",
    "  <td>51.450363</td>\n",
    "  <td>52.096165</td>\n",
    "  <td>52.096165</td>\n",
    "  <td>15361800</td>\n",
    "</tr>\n",
    "<tr>\n",
    "  <th>4</th>\n",
    "  <td>2004-08-25</td>\n",
    "  <td>52.140873</td>\n",
    "  <td>53.651051</td>\n",
    "  <td>51.604362</td>\n",
    "  <td>52.657513</td>\n",
    "  <td>52.657513</td>\n",
    "  <td>9257400</td>\n",
    "</tr>\n",
    "  </tbody>\n",
    "</table>\n",
    "</div>\n",
    "\n"
   ]
  },
  {
   "cell_type": "markdown",
   "metadata": {},
   "source": [
    "可以清晰地看出，Dataframe 自动使用整数标记行索引，并使用 CSV 文件中的列名称标记列。\n",
    "\n",
    "# TODO\n",
    "\n",
    "现在，你需要将 Google、Apple 和 Amazon 的股票数据加载到单独的 DataFrame 中。但是，对于每个股票数据，你只需将 `Date` 和 `Adj Close` 列加载到 Dataframe 中。此外，你需要将 `Date` 列用做行索引。最后，你需要让  DataFrame 将日期识别为真实日期（年/月/日），而不是字符串。对于每支股票，你可以通过在 `pd.read_csv()` 函数中使用相应的关键字，只需一行代码就能完成所有这些操作。下面是一些提示：\n",
    "\n",
    "* 使用 `index_col` 关键字表示要将哪列作为索引。例如 `index_col = ['Open']`\n",
    "\n",
    "* 将 `parse_dates` 关键字设为 `True`，以将日期转换为年/月/日形式的真实日期\n",
    "\n",
    "* 使用 `usecols` 关键字选择要将哪些列加载到 DataFrame 中。例如 `usecols = ['Open', 'High']`\n",
    "\n",
    "填充以下代码："
   ]
  },
  {
   "cell_type": "code",
   "execution_count": null,
   "metadata": {},
   "outputs": [],
   "source": [
    "# We load the Google stock data into a DataFrame\n",
    "google_stock = \n",
    "\n",
    "# We load the Apple stock data into a DataFrame\n",
    "apple_stock = \n",
    "\n",
    "# We load the Amazon stock data into a DataFrame\n",
    "amazon_stock = "
   ]
  },
  {
   "cell_type": "markdown",
   "metadata": {},
   "source": [
    "你可以通过显示 DataFrame 的标头，检查是否正确地加载了数据。"
   ]
  },
  {
   "cell_type": "code",
   "execution_count": null,
   "metadata": {},
   "outputs": [],
   "source": [
    "# We display the google_stock DataFrame\n",
    "google_stock.head()"
   ]
  },
  {
   "cell_type": "markdown",
   "metadata": {},
   "source": [
    "现在，你需要将上述三个 DataFrame 连接到一起，创建一个新的 DataFrame，其中包含所有股票的所有 `Adj Close`。我们先创建一个空的 DataFrame，其中具有在 `2000-01-01`  和 `2016-12-31` 之间的行索引日历日期。我们首先将使用 `pd.date_range()` 函数创建日历日期，然后创建一个将这些日期当做行索引的 DataFrame："
   ]
  },
  {
   "cell_type": "code",
   "execution_count": null,
   "metadata": {},
   "outputs": [],
   "source": [
    "# We create calendar dates between '2000-01-01' and  '2016-12-31'\n",
    "dates = pd.date_range('2000-01-01', '2016-12-31')\n",
    "\n",
    "# We create and empty DataFrame that uses the above dates as indices\n",
    "all_stocks = pd.DataFrame(index = dates)"
   ]
  },
  {
   "cell_type": "markdown",
   "metadata": {},
   "source": [
    "# TODO\n",
    "\n",
    "现在需要将单个 DataFrame `google_stock`、`apple_stock` 和 `amazon_stock` 连接成 `all_stocks` DataFrame。但是，在执行此操作之前，有必要更改三个 DataFrame 中的列名称。因为 `all_stocks` DataFrame 中的列标签必须是唯一的。因为三个 DataFrame 中的所有列都具有相同的名称 `Adj Close`，我们必须将它们更改为股票名称，然后再连接它们。在下面的空白处，将每个 DataFrame 的列标签 `Adj Close` 更改为相应股票的名称。为此，你可以使用 `pd.DataFrame.rename()` 函数。"
   ]
  },
  {
   "cell_type": "code",
   "execution_count": null,
   "metadata": {},
   "outputs": [],
   "source": [
    "# Change the Adj Close column label to Google\n",
    "google_stock = \n",
    "\n",
    "# Change the Adj Close column label to Apple\n",
    "apple_stock = \n",
    "\n",
    "# Change the Adj Close column label to Amazon\n",
    "amazon_stock = "
   ]
  },
  {
   "cell_type": "markdown",
   "metadata": {},
   "source": [
    "你可以通过显示 DataFrame，检查是否正确地更改了列标签"
   ]
  },
  {
   "cell_type": "code",
   "execution_count": null,
   "metadata": {},
   "outputs": [],
   "source": [
    "# We display the google_stock DataFrame\n",
    "google_stock.head()"
   ]
  },
  {
   "cell_type": "markdown",
   "metadata": {},
   "source": [
    "现在列标签已经是唯一的，我们可以将单个 DataFrame 连接成 `all_stocks` DataFrame。为此，我们将使用 `dataframe.join()` 函数。函数 `dataframe1.join(dataframe2)` 将 `dataframe1` 与 `dataframe2`相连接。我们将逐个将每个 DataFrame 连接到 `all_stocks` DataFrame。请填写以下代码，以连接这些 DataFrame，我们已帮你完成第一次连接："
   ]
  },
  {
   "cell_type": "code",
   "execution_count": null,
   "metadata": {},
   "outputs": [],
   "source": [
    "# We join the Google stock to all_stocks\n",
    "all_stocks = all_stocks.join(google_stock)\n",
    "\n",
    "# We join the Apple stock to all_stocks\n",
    "all_stocks = \n",
    "\n",
    "# We join the Amazon stock to all_stocks\n",
    "all_stocks ="
   ]
  },
  {
   "cell_type": "markdown",
   "metadata": {},
   "source": [
    "你可以通过显示 `all_stocks`  DataFrame 检查是否正确地连接了这些 DataFrame。"
   ]
  },
  {
   "cell_type": "code",
   "execution_count": null,
   "metadata": {},
   "outputs": [],
   "source": [
    "# We display the google_stock DataFrame\n",
    "all_stocks.head()"
   ]
  },
  {
   "cell_type": "markdown",
   "metadata": {},
   "source": [
    "# 代办事项\n",
    "\n",
    "在获取股票数据的统计信息之前，我们先检查下是否有任何 *NaN* 值。在下面的空白处，检查 `all_stocks` DataFrame 中是否有任何 *NaN* 值。如果有，请删除包含  *NaN* 值的所有行："
   ]
  },
  {
   "cell_type": "code",
   "execution_count": null,
   "metadata": {},
   "outputs": [],
   "source": [
    "# Check if there are any NaN values in the all_stocks dataframe\n",
    "\n",
    "\n",
    "# Remove any rows that contain NaN values\n"
   ]
  },
  {
   "cell_type": "markdown",
   "metadata": {},
   "source": [
    "你已经删除了任何  *NaN* 值，我们可以计算股价的一些基本统计指标了。请填充以下代码"
   ]
  },
  {
   "cell_type": "code",
   "execution_count": null,
   "metadata": {},
   "outputs": [],
   "source": [
    "# Print the average stock price for each stock\n",
    "\n",
    "# Print the median stock price for each stock\n",
    "\n",
    "# Print the standard deviation of the stock price for each stock  \n",
    "\n",
    "# Print the correlation between stocks"
   ]
  },
  {
   "cell_type": "markdown",
   "metadata": {},
   "source": [
    "我们现在将了解如何计算滚动统计指标，也称之为移动统计指标。例如，我们可以通过使用 Pandas `dataframe.rolling().mean()` 方法，计算 Google 股价的滚动均值（移动平均值）。`dataframe.rolling(N).mean()` 会计算  `N` 天期限的滚动均值。换句话说，我们可以通过使用上述方法查看每隔 `N`  天的平均股价。请填写以下代码，计算 Google 股票每隔 150 天的平均股价。"
   ]
  },
  {
   "cell_type": "code",
   "execution_count": null,
   "metadata": {},
   "outputs": [],
   "source": [
    "# We compute the rolling mean using a 150-Day window for Google stock\n",
    "rollingMean = "
   ]
  },
  {
   "cell_type": "markdown",
   "metadata": {},
   "source": [
    "我们还可以通过绘制 DataFrame 中的数据可视化滚动均值。在下面的课程中，你将学习如何使用 **Matplotlib** 可视化数据。暂时我们将导入 matplotlib 并在滚动均值上方绘制 Google 股票数据。你可以更改滚动均值期限，看看图形有何变化。"
   ]
  },
  {
   "cell_type": "code",
   "execution_count": null,
   "metadata": {},
   "outputs": [],
   "source": [
    "# We import matplotlib into Python\n",
    "import matplotlib.pyplot as plt\n",
    "\n",
    "# We plot the Google stock data\n",
    "plt.plot(all_stocks['Google'])\n",
    "\n",
    "# We plot the rolling mean ontop of our Google stock data\n",
    "plt.plot(rollingMean)\n",
    "plt.legend(['Google Stock Price', 'Rolling Mean'])\n",
    "plt.show()"
   ]
  }
 ],
 "metadata": {
  "kernelspec": {
   "display_name": "Python 3",
   "language": "python",
   "name": "python3"
  },
  "language_info": {
   "codemirror_mode": {
    "name": "ipython",
    "version": 3
   },
   "file_extension": ".py",
   "mimetype": "text/x-python",
   "name": "python",
   "nbconvert_exporter": "python",
   "pygments_lexer": "ipython3",
   "version": "3.6.3"
  }
 },
 "nbformat": 4,
 "nbformat_minor": 2
}
